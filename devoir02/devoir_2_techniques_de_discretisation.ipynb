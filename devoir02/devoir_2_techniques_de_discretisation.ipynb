{
 "cells": [
  {
   "cell_type": "markdown",
   "id": "01e099a5-8fee-4ac3-8e9f-a7e31157e58f",
   "metadata": {},
   "source": [
    "## DEVOIR 02:APPLICATION DES DIFFERENTES METHODES DE DISCRETISATION"
   ]
  },
  {
   "cell_type": "code",
   "execution_count": 27,
   "id": "dcda60a0-35d4-44f7-b9b7-8d44a377eb93",
   "metadata": {},
   "outputs": [],
   "source": [
    "import pandas as pd\n",
    "import numpy as np\n",
    "from sklearn.datasets import load_wine\n",
    "from sklearn.preprocessing import KBinsDiscretizer\n",
    "from sklearn.cluster import KMeans\n",
    "from sklearn.preprocessing import KBinsDiscretizer\n",
    "import pandas as pd\n",
    "from sklearn.datasets import load_wine\n",
    "from sklearn.feature_selection import mutual_info_classif\n",
    "import matplotlib.pyplot as plt\n",
    "import seaborn as sns"
   ]
  },
  {
   "cell_type": "code",
   "execution_count": 11,
   "id": "eea7a9f9-9159-4b4d-a607-698ddcdec747",
   "metadata": {},
   "outputs": [
    {
     "name": "stdout",
     "output_type": "stream",
     "text": [
      "Aperçu du dataset Wine:\n",
      "   alcohol  malic_acid   ash  alcalinity_of_ash  magnesium  total_phenols  \\\n",
      "0    14.23        1.71  2.43               15.6      127.0           2.80   \n",
      "1    13.20        1.78  2.14               11.2      100.0           2.65   \n",
      "2    13.16        2.36  2.67               18.6      101.0           2.80   \n",
      "3    14.37        1.95  2.50               16.8      113.0           3.85   \n",
      "4    13.24        2.59  2.87               21.0      118.0           2.80   \n",
      "\n",
      "   flavanoids  nonflavanoid_phenols  proanthocyanins  color_intensity   hue  \\\n",
      "0        3.06                  0.28             2.29             5.64  1.04   \n",
      "1        2.76                  0.26             1.28             4.38  1.05   \n",
      "2        3.24                  0.30             2.81             5.68  1.03   \n",
      "3        3.49                  0.24             2.18             7.80  0.86   \n",
      "4        2.69                  0.39             1.82             4.32  1.04   \n",
      "\n",
      "   od280/od315_of_diluted_wines  proline  target  \n",
      "0                          3.92   1065.0       0  \n",
      "1                          3.40   1050.0       0  \n",
      "2                          3.17   1185.0       0  \n",
      "3                          3.45   1480.0       0  \n",
      "4                          2.93    735.0       0   \n",
      "\n"
     ]
    }
   ],
   "source": [
    "# Charger le dataset Wine\n",
    "data = load_wine()\n",
    "df = pd.DataFrame(data.data, columns=data.feature_names)\n",
    "df['target'] = data.target\n",
    "print(\"Aperçu du dataset Wine:\")\n",
    "print(df.head(), \"\\n\")"
   ]
  },
  {
   "cell_type": "code",
   "execution_count": 12,
   "id": "f6e68ecc-d964-4141-b64e-7fa9c252f031",
   "metadata": {},
   "outputs": [],
   "source": [
    "# On choisit une variable continue à discrétiser, ex: \"alcohol\"\n",
    "X = df[['alcohol']].values\n",
    "y = df['target'].values"
   ]
  },
  {
   "cell_type": "markdown",
   "id": "105e771f-319f-4a76-bcd2-9bf403495436",
   "metadata": {},
   "source": [
    "### Méthode basée sur la discrétisation"
   ]
  },
  {
   "cell_type": "code",
   "execution_count": null,
   "id": "fb92e598-dab9-4fdb-9830-dadc9b9b977a",
   "metadata": {},
   "outputs": [],
   "source": []
  },
  {
   "cell_type": "markdown",
   "id": "53dbbf43-1df9-495a-af19-92560d523a23",
   "metadata": {},
   "source": [
    "### Intervalles de largeur égales"
   ]
  },
  {
   "cell_type": "markdown",
   "id": "78f7d25f-a167-44bc-bd1b-ec6825fde928",
   "metadata": {},
   "source": [
    "#### Explication : ici,nous divisons la plage des valeurs en intervalles de meme longueur. Choississons k=3.Pour ce faire,nous allons calculer les bornes avec la formue suivante :Largeur=(max−min)/nombres d intervalles"
   ]
  },
  {
   "cell_type": "code",
   "execution_count": null,
   "id": "b0b75ef4-40be-42c5-ab4d-8d5a1d0a7961",
   "metadata": {},
   "outputs": [],
   "source": []
  },
  {
   "cell_type": "markdown",
   "id": "14417641-4851-4a24-976c-f27d3ba48c71",
   "metadata": {},
   "source": [
    "#### k=3 est souvent utilisé si on sait qu’il y a environ 3 sous-groupes naturels dans la donnée (ici, le dataset Wine a 3 classes de vin).\n",
    "\n",
    "#### Donc le choix de k=3 est cohérent avec le nombre de classes réelles (target) du dataset."
   ]
  },
  {
   "cell_type": "code",
   "execution_count": 20,
   "id": "78c83409-fd1c-4fa6-8a3e-6949e094f25c",
   "metadata": {},
   "outputs": [
    {
     "name": "stdout",
     "output_type": "stream",
     "text": [
      "Valeur min = 11.03, max = 14.83\n",
      "Largeur d'intervalle = 1.27\n",
      "\n",
      "Bornes des intervalles : [np.float64(11.03), np.float64(12.3), np.float64(13.56), np.float64(14.83)] \n",
      "\n",
      "Intervalle 0 : [11.03, 12.30)\n",
      "Intervalle 1 : [12.30, 13.56)\n",
      "Intervalle 2 : [13.56, 14.83]\n",
      "\n",
      "Aperçu (10 premières lignes):\n",
      "   alcohol  alcohol_equal_width\n",
      "0    14.23                    2\n",
      "1    13.20                    1\n",
      "2    13.16                    1\n",
      "3    14.37                    2\n",
      "4    13.24                    1\n",
      "5    14.20                    2\n",
      "6    14.39                    2\n",
      "7    14.06                    2\n",
      "8    14.83                    2\n",
      "9    13.86                    2\n"
     ]
    }
   ],
   "source": [
    "\n",
    "# Variable choisie\n",
    "col = 'alcohol'\n",
    "values = df[col].values\n",
    "\n",
    "# Paramètres\n",
    "k = 3  # nombre d'intervalles\n",
    "vmin, vmax = values.min(), values.max()\n",
    "\n",
    "# Formule\n",
    "width = (vmax - vmin) / k\n",
    "bins = [vmin + i*width for i in range(k)] + [vmax]  # bornes des intervalles\n",
    "\n",
    "# Discrétisation\n",
    "df['alcohol_equal_width'] = pd.cut(values, bins=bins, labels=False, include_lowest=True)\n",
    "\n",
    "# Affichage\n",
    "print(f\"Valeur min = {vmin:.2f}, max = {vmax:.2f}\")\n",
    "print(f\"Largeur d'intervalle = {width:.2f}\")\n",
    "print(\"\\nBornes des intervalles :\", [round(b, 2) for b in bins], \"\\n\")\n",
    "\n",
    "# Afficher chaque intervalle correctement\n",
    "for i in range(len(bins) - 1):\n",
    "    gauche = bins[i]\n",
    "    droite = bins[i+1]\n",
    "    if i < len(bins) - 2:\n",
    "        print(f\"Intervalle {i} : [{gauche:.2f}, {droite:.2f})\")\n",
    "    else:\n",
    "        print(f\"Intervalle {i} : [{gauche:.2f}, {droite:.2f}]\")\n",
    "\n",
    "print(\"\\nAperçu (10 premières lignes):\")\n",
    "print(df[[col, 'alcohol_equal_width']].head(10))\n"
   ]
  },
  {
   "cell_type": "markdown",
   "id": "c4b85b90-ee10-4d67-aa6a-235d6d2e80fd",
   "metadata": {},
   "source": [
    "#### Problé\"me:certains intervalles peuvent contenir très peu d’instances ou bien plus"
   ]
  },
  {
   "cell_type": "code",
   "execution_count": null,
   "id": "e368ccfd-bb5d-44fe-9ac5-a26191de0a28",
   "metadata": {},
   "outputs": [],
   "source": []
  },
  {
   "cell_type": "markdown",
   "id": "b74ad6c8-d910-4730-86f0-25cdd1fe6d44",
   "metadata": {},
   "source": [
    "### Fréquences égales"
   ]
  },
  {
   "cell_type": "markdown",
   "id": "815bf785-0672-4e88-9c7a-76e26313711f",
   "metadata": {},
   "source": [
    "#### Explication: ici chaque intervalle contient environ le meme nombres d instances.Pour ce faire,appliquons la formule taille_intervalle=nombre d obserations/nombre d intervalles"
   ]
  },
  {
   "cell_type": "code",
   "execution_count": 21,
   "id": "3c37431f-3897-46dd-8723-4126a9d7d50a",
   "metadata": {},
   "outputs": [
    {
     "name": "stdout",
     "output_type": "stream",
     "text": [
      "Bornes Equal Frequency:\n",
      "[11.03 12.52 13.48 14.83] \n",
      "\n",
      "Intervalle 0 : [11.03, 12.52)\n",
      "Intervalle 1 : [12.52, 13.48)\n",
      "Intervalle 2 : [13.48, 14.83]\n"
     ]
    }
   ],
   "source": [
    "\n",
    "# On choisit la variable 'alcohol'\n",
    "X = df[['alcohol']]\n",
    "\n",
    "# Discrétisation Equal Frequency\n",
    "equal_freq = KBinsDiscretizer(n_bins=3, encode='ordinal', strategy='quantile')\n",
    "df['alcohol_equal_freq'] = equal_freq.fit_transform(X)\n",
    "\n",
    "# Afficher les bornes\n",
    "print(\"Bornes Equal Frequency:\")\n",
    "print(equal_freq.bin_edges_[0], \"\\n\")\n",
    "\n",
    "# Afficher proprement chaque intervalle\n",
    "edges = equal_freq.bin_edges_[0]\n",
    "for i in range(len(edges) - 1):\n",
    "    gauche = edges[i]\n",
    "    droite = edges[i+1]\n",
    "    if i < len(edges) - 2:\n",
    "        print(f\"Intervalle {i} : [{gauche:.2f}, {droite:.2f})\")\n",
    "    else:\n",
    "        print(f\"Intervalle {i} : [{gauche:.2f}, {droite:.2f}]\")\n"
   ]
  },
  {
   "cell_type": "code",
   "execution_count": null,
   "id": "adff4262-bf6e-4feb-ae6f-98ef44720f2f",
   "metadata": {},
   "outputs": [],
   "source": []
  },
  {
   "cell_type": "code",
   "execution_count": null,
   "id": "b57b099a-55a5-4fba-a774-c9cbf02f6df0",
   "metadata": {},
   "outputs": [],
   "source": []
  },
  {
   "cell_type": "markdown",
   "id": "2b3960a4-f077-45d1-a655-97ce6c990920",
   "metadata": {},
   "source": [
    "### Entropie "
   ]
  },
  {
   "cell_type": "markdown",
   "id": "86316f05-41ee-4566-949b-043530102076",
   "metadata": {},
   "source": [
    "#### Explication:ici,nous minimise l'entropie de classe dans chaque intervalle"
   ]
  },
  {
   "cell_type": "code",
   "execution_count": 22,
   "id": "3314940d-2f4e-4e28-b794-925c8d69d006",
   "metadata": {},
   "outputs": [
    {
     "name": "stdout",
     "output_type": "stream",
     "text": [
      "Bornes 'entropy-like' (percentiles choisis): [12.52 13.48] \n",
      "\n",
      "Intervalle 0 : (-inf, 12.52)\n",
      "Intervalle 1 : [12.52, 13.48)\n",
      "Intervalle 2 : [13.48, +inf)\n",
      "\n",
      "Information mutuelle avec la cible: 0.37789395784729063\n",
      "\n",
      "Aperçu (10 premières lignes):\n",
      "   alcohol  alcohol_entropy_like\n",
      "0    14.23                     2\n",
      "1    13.20                     1\n",
      "2    13.16                     1\n",
      "3    14.37                     2\n",
      "4    13.24                     1\n",
      "5    14.20                     2\n",
      "6    14.39                     2\n",
      "7    14.06                     2\n",
      "8    14.83                     2\n",
      "9    13.86                     2\n"
     ]
    }
   ],
   "source": [
    "\n",
    "\n",
    "\n",
    "# Variable choisie\n",
    "X = df[['alcohol']].values.ravel()\n",
    "\n",
    "# Définir nombre max de coupures (paramètre à ajuster)\n",
    "k = 3\n",
    "\n",
    "# Générer des seuils candidats (percentiles)\n",
    "seuils = np.percentile(X, np.linspace(0, 100, k+1)[1:-1])\n",
    "\n",
    "# Discrétiser selon ces seuils\n",
    "df['alcohol_entropy_like'] = np.digitize(X, bins=seuils)\n",
    "\n",
    "# Évaluer la pertinence des coupures par information mutuelle\n",
    "mi = mutual_info_classif(df[['alcohol_entropy_like']], y, discrete_features=True)\n",
    "\n",
    "print(\"Bornes 'entropy-like' (percentiles choisis):\", seuils, \"\\n\")\n",
    "for i in range(len(seuils)+1):\n",
    "    if i == 0:\n",
    "        print(f\"Intervalle {i} : (-inf, {seuils[i]:.2f})\")\n",
    "    elif i == len(seuils):\n",
    "        print(f\"Intervalle {i} : [{seuils[i-1]:.2f}, +inf)\")\n",
    "    else:\n",
    "        print(f\"Intervalle {i} : [{seuils[i-1]:.2f}, {seuils[i]:.2f})\")\n",
    "\n",
    "print(\"\\nInformation mutuelle avec la cible:\", mi[0])\n",
    "print(\"\\nAperçu (10 premières lignes):\")\n",
    "print(df[['alcohol', 'alcohol_entropy_like']].head(10))\n"
   ]
  },
  {
   "cell_type": "code",
   "execution_count": null,
   "id": "a07d3574-8294-42c9-a16c-41292b044273",
   "metadata": {},
   "outputs": [],
   "source": []
  },
  {
   "cell_type": "markdown",
   "id": "1a1f622f-7096-40bd-a74b-912da6d3e5f2",
   "metadata": {},
   "source": [
    "### Methode basée sur le clustering "
   ]
  },
  {
   "cell_type": "markdown",
   "id": "caaa6862-2ea9-4500-8174-f9af205275d5",
   "metadata": {},
   "source": [
    "#### Explication: On applique un algorithme de clustering sur les valeurs continues, puis on affecte chaque cluster à un intervalle.\n",
    "\n",
    "#### Exemple : appliquer k-means sur la variable alcohol avec k=3 → 3 groupes naturels : faible, moyen, fort."
   ]
  },
  {
   "cell_type": "code",
   "execution_count": 23,
   "id": "6534a491-e621-427c-8d33-f55e40993481",
   "metadata": {},
   "outputs": [
    {
     "name": "stdout",
     "output_type": "stream",
     "text": [
      "Centres des clusters (KMeans):\n",
      "Cluster 0 : centre = 12.09\n",
      "Cluster 1 : centre = 13.02\n",
      "Cluster 2 : centre = 13.90\n",
      "\n",
      "Bornes estimées entre clusters : [np.float64(12.55), np.float64(13.46)] \n",
      "\n",
      "Cluster 0 : (-inf, 12.55)\n",
      "Cluster 1 : [12.55, 13.46)\n",
      "Cluster 2 : [13.46, +inf)\n",
      "\n",
      "Aperçu (10 premières lignes):\n",
      "   alcohol  alcohol_clusters\n",
      "0    14.23                 1\n",
      "1    13.20                 2\n",
      "2    13.16                 2\n",
      "3    14.37                 1\n",
      "4    13.24                 2\n",
      "5    14.20                 1\n",
      "6    14.39                 1\n",
      "7    14.06                 1\n",
      "8    14.83                 1\n",
      "9    13.86                 1\n"
     ]
    }
   ],
   "source": [
    "# On récupère la colonne alcohol comme array numpy\n",
    "X = df['alcohol'].values.reshape(-1, 1)\n",
    "# KMeans avec 3 clusters\n",
    "kmeans = KMeans(n_clusters=3, random_state=0, n_init=10)\n",
    "clusters = kmeans.fit_predict(X)\n",
    "df['alcohol_clusters'] = clusters\n",
    "\n",
    "# Centres des clusters\n",
    "centres = np.sort(kmeans.cluster_centers_.flatten())\n",
    "\n",
    "print(\"Centres des clusters (KMeans):\")\n",
    "for i, c in enumerate(centres):\n",
    "    print(f\"Cluster {i} : centre = {c:.2f}\")\n",
    "\n",
    "# Déterminer les bornes des intervalles (à partir des centres triés)\n",
    "# Les coupures sont à mi-chemin entre deux centres\n",
    "bornes = []\n",
    "for i in range(len(centres)-1):\n",
    "    borne = (centres[i] + centres[i+1]) / 2\n",
    "    bornes.append(borne)\n",
    "\n",
    "print(\"\\nBornes estimées entre clusters :\", [round(b, 2) for b in bornes], \"\\n\")\n",
    "\n",
    "# Afficher les intervalles de chaque cluster\n",
    "for i in range(len(centres)):\n",
    "    if i == 0:\n",
    "        print(f\"Cluster {i} : (-inf, {bornes[i]:.2f})\")\n",
    "    elif i == len(centres)-1:\n",
    "        print(f\"Cluster {i} : [{bornes[i-1]:.2f}, +inf)\")\n",
    "    else:\n",
    "        print(f\"Cluster {i} : [{bornes[i-1]:.2f}, {bornes[i]:.2f})\")\n",
    "\n",
    "print(\"\\nAperçu (10 premières lignes):\")\n",
    "print(df[['alcohol', 'alcohol_clusters']].head(10))\n"
   ]
  },
  {
   "cell_type": "code",
   "execution_count": null,
   "id": "afc14ed9-0838-43e5-b161-641574a0a02b",
   "metadata": {},
   "outputs": [],
   "source": []
  },
  {
   "cell_type": "markdown",
   "id": "33fbe947-a150-44ff-8e1d-2787c1a036fa",
   "metadata": {},
   "source": [
    "### Conclusion"
   ]
  },
  {
   "cell_type": "code",
   "execution_count": 29,
   "id": "8677c3e9-c48b-4d5e-a893-c044d9ae3b0a",
   "metadata": {},
   "outputs": [
    {
     "name": "stdout",
     "output_type": "stream",
     "text": [
      "Aperçu des colonnes discrétisées:\n",
      "    alcohol  alcohol_equal_width  alcohol_equal_freq  alcohol_entropy_like  \\\n",
      "0     14.23                    2                 2.0                     2   \n",
      "1     13.20                    1                 1.0                     1   \n",
      "2     13.16                    1                 1.0                     1   \n",
      "3     14.37                    2                 2.0                     2   \n",
      "4     13.24                    1                 1.0                     1   \n",
      "5     14.20                    2                 2.0                     2   \n",
      "6     14.39                    2                 2.0                     2   \n",
      "7     14.06                    2                 2.0                     2   \n",
      "8     14.83                    2                 2.0                     2   \n",
      "9     13.86                    2                 2.0                     2   \n",
      "10    14.10                    2                 2.0                     2   \n",
      "\n",
      "    alcohol_clusters  \n",
      "0                  1  \n",
      "1                  2  \n",
      "2                  2  \n",
      "3                  1  \n",
      "4                  2  \n",
      "5                  1  \n",
      "6                  1  \n",
      "7                  1  \n",
      "8                  1  \n",
      "9                  1  \n",
      "10                 1  \n"
     ]
    }
   ],
   "source": [
    "print(\"Aperçu des colonnes discrétisées:\")\n",
    "print(df[['alcohol', 'alcohol_equal_width', 'alcohol_equal_freq','alcohol_entropy_like', 'alcohol_clusters']].head(11))\n",
    "\n"
   ]
  },
  {
   "cell_type": "code",
   "execution_count": 31,
   "id": "1d3ffbdd-8b3c-4811-af36-696d98f9fd6a",
   "metadata": {},
   "outputs": [
    {
     "data": {
      "image/png": "[encoded data removed]",
      "text/plain": [
       "<Figure size 1200x800 with 3 Axes>"
      ]
     },
     "metadata": {},
     "output_type": "display_data"
    }
   ],
   "source": [
    "# Histogramme de la variable alcohol\n",
    "plt.figure(figsize=(12,8))\n",
    "\n",
    "# Méthode 1: Equal Width\n",
    "plt.subplot(2,2,1)\n",
    "sns.histplot(df['alcohol'], bins=20, kde=False)\n",
    "for b in bins:   # <-- ici on utilise la liste bins calculée avant\n",
    "    plt.axvline(b, color='red', linestyle='--')\n",
    "plt.title(\"Equal Interval Width\")\n",
    "\n",
    "# Méthode 2: Equal Frequency\n",
    "plt.subplot(2,2,2)\n",
    "sns.histplot(df['alcohol'], bins=20, kde=False)\n",
    "for b in equal_freq.bin_edges_[0]:\n",
    "    plt.axvline(b, color='green', linestyle='--')\n",
    "plt.title(\"Equal Frequency\")\n",
    "\n",
    "# Méthode 3: Entropy-based (si installé)\n",
    "\"\"\"plt.subplot(2,2,3)\n",
    "sns.histplot(df['alcohol'], bins=20, kde=False)\n",
    "try:\n",
    "    for b in entropy_disc.cut_points_[0]:\n",
    "        plt.axvline(b, color='blue', linestyle='--')\n",
    "    plt.title(\"Entropy-based\")\n",
    "except:\n",
    "    plt.title(\"Entropy-based (non installé)\")\n",
    "\"\"\"\n",
    "# Méthode 4: Clustering\n",
    "plt.subplot(2,2,4)\n",
    "sns.histplot(df['alcohol'], bins=20, kde=False)\n",
    "centers = np.sort(kmeans.cluster_centers_.flatten())\n",
    "for c in centers:\n",
    "    plt.axvline(c, color='purple', linestyle='--')\n",
    "plt.title(\"Clustering (K-means)\")\n",
    "\n",
    "plt.tight_layout()\n",
    "plt.show()\n"
   ]
  },
  {
   "cell_type": "code",
   "execution_count": null,
   "id": "132853bd-22b7-4ad4-a063-05978804d5fc",
   "metadata": {},
   "outputs": [],
   "source": []
  }
 ],
 "metadata": {
  "kernelspec": {
   "display_name": "Python 3 (ipykernel)",
   "language": "python",
   "name": "python3"
  },
  "language_info": {
   "codemirror_mode": {
    "name": "ipython",
    "version": 3
   },
   "file_extension": ".py",
   "mimetype": "text/x-python",
   "name": "python",
   "nbconvert_exporter": "python",
   "pygments_lexer": "ipython3",
   "version": "3.10.12"
  }
 },
 "nbformat": 4,
 "nbformat_minor": 5
}
